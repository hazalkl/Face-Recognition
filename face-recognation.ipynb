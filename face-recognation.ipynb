{
 "metadata": {
  "language_info": {
   "codemirror_mode": {
    "name": "ipython",
    "version": 3
   },
   "file_extension": ".py",
   "mimetype": "text/x-python",
   "name": "python",
   "nbconvert_exporter": "python",
   "pygments_lexer": "ipython3",
   "version": "3.8.8"
  },
  "orig_nbformat": 2,
  "kernelspec": {
   "name": "python388jvsc74a57bd0ff7cc315c7b59f66f0b51be8dcb3d2223cba5a64c84ae19e21877fcf1d65e294",
   "display_name": "Python 3.8.8 64-bit"
  }
 },
 "nbformat": 4,
 "nbformat_minor": 2,
 "cells": [
  {
   "cell_type": "code",
   "execution_count": 1,
   "metadata": {},
   "outputs": [],
   "source": [
    "import cv2\n",
    "import face_recognition as fr\n",
    "import numpy as np\n",
    "import os\n",
    "from datetime import datetime"
   ]
  },
  {
   "cell_type": "code",
   "execution_count": 2,
   "metadata": {},
   "outputs": [],
   "source": [
    "path = \"faces\"\n",
    "images = []\n",
    "names = []\n",
    "lists = os.listdir(path)"
   ]
  },
  {
   "cell_type": "code",
   "execution_count": 3,
   "metadata": {},
   "outputs": [
    {
     "output_type": "stream",
     "name": "stdout",
     "text": [
      "['Berk', 'Hazal']\n"
     ]
    }
   ],
   "source": [
    "for img in lists:\n",
    "    Img = cv2.imread(f\"{path}/{img}\")\n",
    "    images.append(Img)\n",
    "    names.append(os.path.splitext(img)[0])\n",
    "print(names)"
   ]
  },
  {
   "cell_type": "code",
   "execution_count": 4,
   "metadata": {},
   "outputs": [],
   "source": [
    "def encoding(images):\n",
    "    encodeList = []\n",
    "    for img in images:\n",
    "        img = cv2.cvtColor(img, cv2.COLOR_BGR2RGB)\n",
    "        encode = fr.face_encodings(img)[0]\n",
    "        encodeList.append(encode)\n",
    "    return encodeList"
   ]
  },
  {
   "cell_type": "code",
   "execution_count": 5,
   "metadata": {},
   "outputs": [],
   "source": [
    "def checkAttendance(name):\n",
    "    with open(\"attendance.csv\",\"r+\") as f:\n",
    "        data = f.readlines()\n",
    "        namelist = []\n",
    "        for line in data:\n",
    "            entry = line.split(\",\")\n",
    "            namelist.append(entry[0])\n",
    "        if name not in namelist:\n",
    "            time = datetime.now()\n",
    "            dstring = time.strftime(\"%H:%M:%S\")\n",
    "            f.writelines(f\"\\n{name},{dstring}\")\n"
   ]
  },
  {
   "cell_type": "code",
   "execution_count": 6,
   "metadata": {},
   "outputs": [],
   "source": [
    "checkAttendance(\"asd\")"
   ]
  },
  {
   "cell_type": "code",
   "execution_count": 7,
   "metadata": {},
   "outputs": [
    {
     "output_type": "stream",
     "name": "stdout",
     "text": [
      "Encoding is done\n"
     ]
    }
   ],
   "source": [
    "encodedList = encoding(images)\n",
    "print(\"Encoding is done\")"
   ]
  },
  {
   "cell_type": "code",
   "execution_count": 8,
   "metadata": {},
   "outputs": [
    {
     "output_type": "execute_result",
     "data": {
      "text/plain": [
       "2"
      ]
     },
     "metadata": {},
     "execution_count": 8
    }
   ],
   "source": [
    "len(encodedList)"
   ]
  },
  {
   "cell_type": "code",
   "execution_count": 9,
   "metadata": {},
   "outputs": [],
   "source": [
    "capture = cv2.VideoCapture(0)"
   ]
  },
  {
   "cell_type": "code",
   "execution_count": 10,
   "metadata": {},
   "outputs": [],
   "source": [
    "while True:\n",
    "    succ, img = capture.read()\n",
    "    imgSm =cv2.resize(img,(0,0),None,0.25,0.25)\n",
    "    imgSm = cv2.cvtColor(imgSm, cv2.COLOR_BGR2RGB)\n",
    "\n",
    "    facesFrame = fr.face_locations(imgSm)\n",
    "    encodeFrame = fr.face_encodings(imgSm,facesFrame)\n",
    "\n",
    "    for enc,loc in zip(encodeFrame,facesFrame):\n",
    "        matching = fr.compare_faces(encodedList,enc)\n",
    "        distance = fr.face_distance(encodedList,enc)\n",
    "        #print(distance)\n",
    "        indexs = np.argmin(distance)\n",
    "\n",
    "        if matching[indexs]:\n",
    "            nm = names[indexs].upper()\n",
    "            #print(nm)\n",
    "            y1, x2, y2, x1 = loc\n",
    "            y1, x2, y2, x1 = y1*4, x2*4, y2*4, x1*4\n",
    "            cv2.rectangle(img, (x1,y1),(x2,y2),(0,255,0),2)\n",
    "            cv2.rectangle(img, (x1,y2+35),(x2,y2),(0,255,0),cv2.FILLED)\n",
    "            cv2.putText(img, nm,(x1,y2+25), cv2.FONT_HERSHEY_COMPLEX,1,(255,255,255),2)\n",
    "            checkAttendance(nm)\n",
    "\n",
    "\n",
    "\n",
    "    cv2.imshow('Camera',img)\n",
    "    cv2.waitKey(1)"
   ]
  },
  {
   "cell_type": "code",
   "execution_count": null,
   "metadata": {},
   "outputs": [],
   "source": []
  }
 ]
}